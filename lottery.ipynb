{
 "cells": [
  {
   "cell_type": "markdown",
   "metadata": {},
   "source": [
    "# 6/49 Lottery Mobile App\n",
    "\n",
    "The purpose if this project is to contribute to the development of a mobile app that aims to **help users better estimate their chances of winning the [6/49 lottery](https://en.wikipedia.org/wiki/Lotto_6/49)**.\n",
    "\n",
    "This project will create the logical core of the app and calculate probabilities. Users of the app will be able to answer questions like:\n",
    "\n",
    "- What is the probability of winning the big prize with a single ticket?\n",
    "- What is the probability of winning the big prize if we play 40 different tickets (or any other number)?\n",
    "- What is the probability of having at least five (or four, or three, or two) winning numbers on a single ticket?\n",
    "\n",
    "This project will consider historical data from the [national 6/49 lottery game in Canada](https://www.kaggle.com/datascienceai/lottery-dataset) which has data for 3,665 drawings, dating from 1982 to 2018."
   ]
  },
  {
   "cell_type": "markdown",
   "metadata": {},
   "source": [
    "## Imports"
   ]
  },
  {
   "cell_type": "code",
   "execution_count": 1,
   "metadata": {},
   "outputs": [],
   "source": [
    "import numpy as np\n",
    "import pandas as pd"
   ]
  },
  {
   "cell_type": "markdown",
   "metadata": {},
   "source": [
    "## Go-To Functions\n",
    "\n",
    "Two functions that will be repeatedly used in this project are factorials and combinations."
   ]
  },
  {
   "cell_type": "markdown",
   "metadata": {},
   "source": [
    "### Factorials\n",
    "\n",
    "The formula for factorial is given by:\n",
    "\n",
    "$$n! = n * (n - 1) * (n - 2) * ... * 2 * 1$$"
   ]
  },
  {
   "cell_type": "code",
   "execution_count": 5,
   "metadata": {},
   "outputs": [],
   "source": [
    "def factorials(n):\n",
    "    \"\"\"\n",
    "    Return the factorial of n.\n",
    "    Example: 3! = 3 x 2 x 1 = 6\n",
    "    \"\"\"\n",
    "    res = 1\n",
    "    for i in range(n):\n",
    "        res *= n\n",
    "        n -= 1\n",
    "    return res"
   ]
  },
  {
   "cell_type": "markdown",
   "metadata": {},
   "source": [
    "### Combinations\n",
    "\n",
    "In the 6/49 lottery, six numbers are drawn from a set of 49 numbers that range from 1 to 49. The drawing is done without replacement, and order does not matter.\n",
    "\n",
    "The formula for unordered sampling without replacement is given by:\n",
    "\n",
    "$$_{n}C_{k} = {n \\choose k} = \\frac{n!}{k!(n-k)!}$$"
   ]
  },
  {
   "cell_type": "code",
   "execution_count": 6,
   "metadata": {},
   "outputs": [],
   "source": [
    "def combinations(n,k):\n",
    "    \"\"\"\n",
    "    Return the number of ways to choose k objects from a gripu of n objects.\n",
    "    \"\"\"\n",
    "    return factorials(n)/(factorials(k)*factorials(n-k))"
   ]
  },
  {
   "cell_type": "markdown",
   "metadata": {},
   "source": [
    "## Probability of Winning The Big Price With a Single Ticket\n",
    "A player wins the big prize if **the six numbers on their tickets match all the six numbers drawn**. If a player has a ticket with the numbers {13, 22, 24, 27, 42, 44}, they only win the big prize if the numbers drawn are {13, 22, 24, 27, 42, 44}. If only one number differs, they did not win.\n",
    "\n",
    "This section will build a function that calculates the probability of winning the big prize for any given ticket.\n",
    "\n",
    "**Function specifications:**\n",
    "\n",
    "- Inside the app, the user inputs six different numbers from 1 to 49.\n",
    "- Under the hood, the six numbers will come as a Python list, which will serve as the single input to our function.\n",
    "- The engineering team wants the function to print the probability value in a friendly way — in a way that people without any probability training are able to understand."
   ]
  },
  {
   "cell_type": "code",
   "execution_count": 7,
   "metadata": {
    "collapsed": false,
    "jupyter": {
     "outputs_hidden": false
    }
   },
   "outputs": [],
   "source": [
    "LEN_TICKET = 6  # Each ticket muct have exactly 6 numbers.\n",
    "LEN_POSSIBLE_DIGITS = 49\n",
    "\n",
    "def one_ticket_probability(nums):\n",
    "    \"\"\"\n",
    "    Calculate the probability of winning the big prize with one \n",
    "    ticket for a given list of numbers.\n",
    "    \n",
    "    Arguments:\n",
    "    ----------\n",
    "    nums : list of 6 different integers from 1 to 49 inclusive.\n",
    "    \"\"\"\n",
    "    if len(nums) == LEN_TICKET:\n",
    "        comb = combinations(LEN_POSSIBLE_DIGITS, LEN_TICKET)\n",
    "        p_win_percentage = (1/comb) * 100\n",
    "        print(\"Your chances of winning the big prize using one\" \n",
    "              \"ticket with numbers {} is {:.7f}%.\\nIn other words,\"\n",
    "              \"you have a one in {:,.0f} chance of \"\n",
    "              \"winning.\".format(nums, p_win_percentage,comb)\n",
    "             )\n",
    "    else:\n",
    "        print(\"You entered {} numbers. Please enter exactly 6 \\\n",
    "        numbers.\".format(len(nums)))\n",
    "        "
   ]
  },
  {
   "cell_type": "code",
   "execution_count": 8,
   "metadata": {
    "collapsed": false,
    "jupyter": {
     "outputs_hidden": false
    }
   },
   "outputs": [
    {
     "name": "stdout",
     "output_type": "stream",
     "text": [
      "Your chances of winning the big prize using oneticket with numbers [13, 22, 24, 27, 42, 44] is 0.0000072%.\n",
      "In other words,you have a one in 13,983,816 chance of winning.\n"
     ]
    }
   ],
   "source": [
    "one_ticket_probability([13, 22, 24, 27, 42, 44])"
   ]
  },
  {
   "cell_type": "markdown",
   "metadata": {},
   "source": [
    "## Explore Historical Data"
   ]
  },
  {
   "cell_type": "code",
   "execution_count": 9,
   "metadata": {
    "collapsed": false,
    "jupyter": {
     "outputs_hidden": false
    }
   },
   "outputs": [
    {
     "name": "stdout",
     "output_type": "stream",
     "text": [
      "   PRODUCT  DRAW NUMBER  SEQUENCE NUMBER  DRAW DATE  NUMBER DRAWN 1  \\\n",
      "0      649            1                0  6/12/1982               3   \n",
      "1      649            2                0  6/19/1982               8   \n",
      "2      649            3                0  6/26/1982               1   \n",
      "\n",
      "   NUMBER DRAWN 2  NUMBER DRAWN 3  NUMBER DRAWN 4  NUMBER DRAWN 5  \\\n",
      "0              11              12              14              41   \n",
      "1              33              36              37              39   \n",
      "2               6              23              24              27   \n",
      "\n",
      "   NUMBER DRAWN 6  BONUS NUMBER  \n",
      "0              43            13  \n",
      "1              41             9  \n",
      "2              39            34  \n",
      "      PRODUCT  DRAW NUMBER  SEQUENCE NUMBER  DRAW DATE  NUMBER DRAWN 1  \\\n",
      "3662      649         3589                0  6/13/2018               6   \n",
      "3663      649         3590                0  6/16/2018               2   \n",
      "3664      649         3591                0  6/20/2018              14   \n",
      "\n",
      "      NUMBER DRAWN 2  NUMBER DRAWN 3  NUMBER DRAWN 4  NUMBER DRAWN 5  \\\n",
      "3662              22              24              31              32   \n",
      "3663              15              21              31              38   \n",
      "3664              24              31              35              37   \n",
      "\n",
      "      NUMBER DRAWN 6  BONUS NUMBER  \n",
      "3662              34            16  \n",
      "3663              49             8  \n",
      "3664              48            17  \n"
     ]
    }
   ],
   "source": [
    "historical_df = pd.read_csv(\"data/649.csv\")\n",
    "print(historical_df.head(3))\n",
    "print(historical_df.tail(3))"
   ]
  },
  {
   "cell_type": "code",
   "execution_count": 10,
   "metadata": {
    "collapsed": false,
    "jupyter": {
     "outputs_hidden": false
    }
   },
   "outputs": [
    {
     "name": "stdout",
     "output_type": "stream",
     "text": [
      "<class 'pandas.core.frame.DataFrame'>\n",
      "RangeIndex: 3665 entries, 0 to 3664\n",
      "Data columns (total 11 columns):\n",
      " #   Column           Non-Null Count  Dtype \n",
      "---  ------           --------------  ----- \n",
      " 0   PRODUCT          3665 non-null   int64 \n",
      " 1   DRAW NUMBER      3665 non-null   int64 \n",
      " 2   SEQUENCE NUMBER  3665 non-null   int64 \n",
      " 3   DRAW DATE        3665 non-null   object\n",
      " 4   NUMBER DRAWN 1   3665 non-null   int64 \n",
      " 5   NUMBER DRAWN 2   3665 non-null   int64 \n",
      " 6   NUMBER DRAWN 3   3665 non-null   int64 \n",
      " 7   NUMBER DRAWN 4   3665 non-null   int64 \n",
      " 8   NUMBER DRAWN 5   3665 non-null   int64 \n",
      " 9   NUMBER DRAWN 6   3665 non-null   int64 \n",
      " 10  BONUS NUMBER     3665 non-null   int64 \n",
      "dtypes: int64(10), object(1)\n",
      "memory usage: 315.1+ KB\n"
     ]
    }
   ],
   "source": [
    "historical_df.info()"
   ]
  },
  {
   "cell_type": "markdown",
   "metadata": {},
   "source": [
    "The data set contains historical data for 3,665 drawings (each row shows data for a single drawing), dating from 1982 to 2018. For each drawing, the six numbers drawn can be found in columns 5 to 10."
   ]
  },
  {
   "cell_type": "markdown",
   "metadata": {},
   "source": [
    "## Probability of Winning The Big Price (Historical Data)\n",
    "\n",
    "This function will enable users to compare their ticket against the historical lottery data in Canada and determine whether they would have ever won by now.\n",
    "\n",
    "**Function Specifications:**\n",
    "\n",
    "- Inside the app, the user inputs six different numbers from 1 to 49.\n",
    "- Under the hood, the six numbers will come as a Python list and serve as an input to our function.\n",
    "- Function should print:\n",
    "    - the number of times the combination selected occurred in the Canada data set; and\n",
    "    - the probability of winning the big prize in the next drawing with that combination."
   ]
  },
  {
   "cell_type": "markdown",
   "metadata": {},
   "source": [
    "### Extract All Winning Numbers From Historical Data"
   ]
  },
  {
   "cell_type": "code",
   "execution_count": 11,
   "metadata": {
    "collapsed": false,
    "jupyter": {
     "outputs_hidden": false
    }
   },
   "outputs": [],
   "source": [
    "def extract_numbers(row):\n",
    "    \"\"\"\n",
    "    Returns all winning numbers in the historical dataframe.\n",
    "    \n",
    "    Arguments:\n",
    "    ----------\n",
    "    row: row in the historical dataframe.\n",
    "    \"\"\"\n",
    "    numbers = row[4:10]\n",
    "    return set(numbers.values)"
   ]
  },
  {
   "cell_type": "code",
   "execution_count": 13,
   "metadata": {
    "collapsed": false,
    "jupyter": {
     "outputs_hidden": false
    }
   },
   "outputs": [
    {
     "data": {
      "text/plain": [
       "0    {3, 41, 11, 12, 43, 14}\n",
       "1    {33, 36, 37, 39, 8, 41}\n",
       "2     {1, 6, 39, 23, 24, 27}\n",
       "3     {3, 9, 10, 43, 13, 20}\n",
       "4    {34, 5, 14, 47, 21, 31}\n",
       "dtype: object"
      ]
     },
     "execution_count": 13,
     "metadata": {},
     "output_type": "execute_result"
    }
   ],
   "source": [
    "winning_numbers = historical_df.apply(extract_numbers, axis=1)\n",
    "winning_numbers.head()"
   ]
  },
  {
   "cell_type": "code",
   "execution_count": 14,
   "metadata": {
    "collapsed": false,
    "jupyter": {
     "outputs_hidden": false
    }
   },
   "outputs": [],
   "source": [
    "def check_historical_occurence(ticket_nums, past_winning_nums):\n",
    "    \"\"\"\n",
    "    \n",
    "    \"\"\"\n",
    "    comb = combinations(LEN_POSSIBLE_DIGITS, LEN_TICKET)\n",
    "    p_win_percentage = (1/comb) * 100\n",
    "    ticket_nums = set(ticket_nums)\n",
    "    occurred = past_winning_nums == ticket_nums\n",
    "    total_occurrences = sum(occurred)\n",
    "    \n",
    "    if total_occurrences == 0:\n",
    "        print(\"This combination has never won the big prize.\")\n",
    "    else:\n",
    "        print(\"The number of times this combination has won the \"\n",
    "              \"big prize is {}.\".format(total_occurrences))\n",
    "        \n",
    "    print(\"Your chances of winning the big prize with this combination \"\n",
    "          \"is {:.7f}%. In other words, you have a 1 in {:,.0f} chance \"\n",
    "          \"of winning.\".format(p_win_percentage,comb)\n",
    "         )"
   ]
  },
  {
   "cell_type": "code",
   "execution_count": 15,
   "metadata": {
    "collapsed": false,
    "jupyter": {
     "outputs_hidden": false
    }
   },
   "outputs": [
    {
     "name": "stdout",
     "output_type": "stream",
     "text": [
      "The number of times this combination has won the big prize is 1.\n",
      "Your chances of winning the big prize with this combination is 0.0000072%. In other words, you have a 1 in 13,983,816 chance of winning.\n"
     ]
    }
   ],
   "source": [
    "check_historical_occurence([3, 41, 11, 12, 43, 14], winning_numbers)"
   ]
  },
  {
   "cell_type": "markdown",
   "metadata": {},
   "source": [
    "## Probability of Winning The Big Price With Multiple Tickets\n",
    "\n",
    "Users usually play more than one ticket on a single drawing, thinking that this might increase their chances of winning significantly. This section will create a function that will allow  users to calculate the chances of winning for any number of different tickets.\n",
    "\n",
    "**Function Specifications:**\n",
    "\n",
    "- The user will input the number of different tickets they want to play (without inputting the specific combinations they intend to play).\n",
    "- The function will see an integer between 1 and 13,983,816 (the maximum number of different tickets).\n",
    "- The function should print information about the probability of winning the big prize depending on the number of different tickets played.\n",
    "\n",
    "**Logic**\n",
    "\n",
    "The number of successful outcomes is given by the number of tickets the user intends to play, and the total number of outcomes is given by $49 \\choose 6$.\n",
    "\n",
    "Ultimately, the probability of winning the big prize with n tickets is given by:\n",
    "\n",
    "$$P(Winning with n tickets) = \\frac{n}{49\\choose 6}$$"
   ]
  },
  {
   "cell_type": "code",
   "execution_count": 18,
   "metadata": {},
   "outputs": [],
   "source": [
    "def multi_ticket_probability(n_tickets):\n",
    "    \"\"\"\n",
    "    Calculate the chances of winning for any number of different tickets.\n",
    "    \n",
    "    Argument:\n",
    "    ---------\n",
    "    n_tickets (int): number of tickets.\n",
    "    \"\"\"\n",
    "    n_combinations = combinations(LEN_POSSIBLE_DIGITS, LEN_TICKET)\n",
    "    p_win_percentage = (n_tickets/n_combinations) * 100\n",
    "    chances_simplified = round(n_combinations/n_tickets)\n",
    "    print(\"You have a {:.7f}% chance of winning the big prize with {:,}\"\n",
    "          \" tickets. In other words you have a 1 in {:,} chance.\\n\"\n",
    "          .format(p_win_percentage, n_tickets, chances_simplified)\n",
    "         )"
   ]
  },
  {
   "cell_type": "markdown",
   "metadata": {},
   "source": [
    "**Testing Function**\n"
   ]
  },
  {
   "cell_type": "code",
   "execution_count": 19,
   "metadata": {
    "collapsed": false,
    "jupyter": {
     "outputs_hidden": false
    }
   },
   "outputs": [
    {
     "name": "stdout",
     "output_type": "stream",
     "text": [
      "You have a 0.0000072% chance of winning the big prize with 1 tickets. In other words you have a 1 in 13,983,816 chance.\n",
      "\n",
      "You have a 0.0000715% chance of winning the big prize with 10 tickets. In other words you have a 1 in 1,398,382 chance.\n",
      "\n",
      "You have a 0.0007151% chance of winning the big prize with 100 tickets. In other words you have a 1 in 139,838 chance.\n",
      "\n",
      "You have a 0.0715112% chance of winning the big prize with 10,000 tickets. In other words you have a 1 in 1,398 chance.\n",
      "\n",
      "You have a 7.1511238% chance of winning the big prize with 1,000,000 tickets. In other words you have a 1 in 14 chance.\n",
      "\n",
      "You have a 50.0000000% chance of winning the big prize with 6,991,908 tickets. In other words you have a 1 in 2 chance.\n",
      "\n",
      "You have a 100.0000000% chance of winning the big prize with 13,983,816 tickets. In other words you have a 1 in 1 chance.\n",
      "\n"
     ]
    }
   ],
   "source": [
    "for i in [1, 10, 100, 10000, 1000000, 6991908, 13983816]:\n",
    "    multi_ticket_probability(i)"
   ]
  },
  {
   "cell_type": "markdown",
   "metadata": {},
   "source": [
    "## Probability of Winning Numbers Less Than 6\n",
    "\n",
    "In most 6/49 lotteries there are smaller prizes if a player's ticket match two, three, four, or five of the six numbers drawn. As a consequence, the users might be interested in knowing the probability of having two, three, four, or five winning numbers.\n",
    "\n",
    "This section will create a function to calculate probabilities for two, three, four, or five winning numbers.\n",
    "\n",
    "**Function Specification:**\n",
    "\n",
    "- Inside the app, the user inputs:\n",
    "    - six different numbers from 1 to 49; and\n",
    "    - an integer between 2 and 5 that represents the number of winning numbers expected\n",
    "- The function prints information about the probability of having the inputted number of winning numbers."
   ]
  },
  {
   "cell_type": "markdown",
   "metadata": {},
   "source": [
    "**Logic**\n",
    "\n",
    "Assuming a player chose these six numbers on a ticket: (1, 2, 3, 4 ,5 ,6). Out of these six numbers the number of five-number combinations is $6 \\choose{5}$. \n",
    "\n",
    "For each one of the six five-number combinations above, there are 44 possible successful outcomes in a lottery drawing. However, the outcomes of interest here are those that match exactly five numbers, not at least five numbers. This means that for each of the six five-number combinations there are 43 possible successful outcomes, not 44.\n",
    "\n",
    "From above, the total number of successful outcomes given six five-number combinations and each combination corresponding to 43 successful outcomes is $6 * 43$ by the rule of products.\n",
    "\n",
    "Ultimately, the probability of getting exactly 5 winning numbers is given by:\n",
    "\n",
    "$$P(Five winning numbers) = \\frac{6 * 43}{49 \\choose{6}}$$"
   ]
  },
  {
   "cell_type": "code",
   "execution_count": 20,
   "metadata": {},
   "outputs": [],
   "source": [
    "def probability_less_than_6(n_winning):\n",
    "    n_choose_6 = combinations(LEN_TICKET,n_winning)\n",
    "    n_successful = combinations(43, LEN_TICKET - n_winning)\n",
    "    total_possible_outcomes = combinations(LEN_POSSIBLE_DIGITS, LEN_TICKET)\n",
    "    outcomes_simplified = round(total_possible_outcomes/(n_choose_6*n_successful))\n",
    "    \n",
    "    p_win_percentage = (n_choose_6 * n_successful)/total_possible_outcomes\n",
    "    print(\"Your chances of having {} winning numbers are {:.7f}%. In other words,\"\n",
    "          \" you have a 1 in {} chance.\\n\".format(n_winning, p_win_percentage, outcomes_simplified))"
   ]
  },
  {
   "cell_type": "markdown",
   "metadata": {},
   "source": [
    "**Testing Function**"
   ]
  },
  {
   "cell_type": "code",
   "execution_count": 21,
   "metadata": {
    "collapsed": false,
    "jupyter": {
     "outputs_hidden": false
    }
   },
   "outputs": [
    {
     "name": "stdout",
     "output_type": "stream",
     "text": [
      "Your chances of having 1 winning numbers are 0.4130195%. In other words, you have a 1 in 2 chance.\n",
      "\n",
      "Your chances of having 2 winning numbers are 0.1323780%. In other words, you have a 1 in 8 chance.\n",
      "\n",
      "Your chances of having 3 winning numbers are 0.0176504%. In other words, you have a 1 in 57 chance.\n",
      "\n",
      "Your chances of having 4 winning numbers are 0.0009686%. In other words, you have a 1 in 1032 chance.\n",
      "\n",
      "Your chances of having 5 winning numbers are 0.0000184%. In other words, you have a 1 in 54201 chance.\n",
      "\n"
     ]
    }
   ],
   "source": [
    "for i in range(1,6):\n",
    "    probability_less_than_6(i)"
   ]
  },
  {
   "cell_type": "markdown",
   "metadata": {},
   "source": [
    "## Conclusion and Future Work\n",
    "\n",
    "Possible features for a second version of the app include:\n",
    "\n",
    "- Making the outputs even easier to understand by comparing the chances of winning in the lottery with that of strange events. For example, \"You are 100 times more likely to be the victim of a shark attack than winning the lottery\").\n",
    "- Combining the one_ticket_probability() and check_historical_occurrence() to output information on probability and historical occurrence at the same time.\n",
    "- Creating a function similar to probability_less_6() which calculates the probability of having at least two, three, four or five winning numbers.\n",
    "\n",
    "    - For example, the number of successful outcomes for having at least four winning numbers is the sum of these three numbers:\n",
    "        - The number of successful outcomes for having four winning numbers exactly\n",
    "        - The number of successful outcomes for having five winning numbers exactly\n",
    "        - The number of successful outcomes for having six winning numbers exactly"
   ]
  }
 ],
 "metadata": {
  "kernelspec": {
   "display_name": "Python 3",
   "language": "python",
   "name": "python3"
  },
  "language_info": {
   "codemirror_mode": {
    "name": "ipython",
    "version": 3
   },
   "file_extension": ".py",
   "mimetype": "text/x-python",
   "name": "python",
   "nbconvert_exporter": "python",
   "pygments_lexer": "ipython3",
   "version": "3.7.6"
  }
 },
 "nbformat": 4,
 "nbformat_minor": 4
}
